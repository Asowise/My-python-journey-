{
  "nbformat": 4,
  "nbformat_minor": 0,
  "metadata": {
    "colab": {
      "provenance": [],
      "authorship_tag": "ABX9TyPUMGDuI4Fc2hHffCQIAMop",
      "include_colab_link": true
    },
    "kernelspec": {
      "name": "python3",
      "display_name": "Python 3"
    },
    "language_info": {
      "name": "python"
    }
  },
  "cells": [
    {
      "cell_type": "markdown",
      "metadata": {
        "id": "view-in-github",
        "colab_type": "text"
      },
      "source": [
        "<a href=\"https://colab.research.google.com/github/Asowise/My-python-journey-/blob/main/Calculator_Project.ipynb\" target=\"_parent\"><img src=\"https://colab.research.google.com/assets/colab-badge.svg\" alt=\"Open In Colab\"/></a>"
      ]
    },
    {
      "cell_type": "code",
      "execution_count": 26,
      "metadata": {
        "colab": {
          "base_uri": "https://localhost:8080/"
        },
        "id": "Tzu7C1pWkmxP",
        "outputId": "e6a04526-afbd-478c-f74a-f75145a9c00b"
      },
      "outputs": [
        {
          "output_type": "stream",
          "name": "stdout",
          "text": [
            "Enter operation mode: a = add, s = subtract, d = divide, m = multiply: m\n",
            "Enter first number: 8\n",
            "Enter second number: 7\n",
            "56\n"
          ]
        }
      ],
      "source": [
        "#Simple calculator that is capable of add, subtract, divide, and multiplying two numbers inputed by user.\n",
        "#List the operations (e.g A = h + j)\n",
        "#A user select the operation\n",
        "#A user input 2 numbers ,converted to integer\n",
        "#output the operation\n",
        "\n",
        "input_operation = input(\"Enter operation mode: a = add, s = subtract, d = divide, m = multiply: \")\n",
        "\n",
        "\n",
        "num1 = int(input(\"Enter first number: \"))\n",
        "num2 = int(input(\"Enter second number: \"))\n",
        "\n",
        "\n",
        "a = float(num1 + num2)\n",
        "s = num1 - num2\n",
        "d = num1 / num2\n",
        "m = num1 * num2\n",
        "\n",
        "if input_operation == \"a\":\n",
        "   print(f\"Result: {a}\")\n",
        "elif input_operation == \"s\":\n",
        "     print(s)\n",
        "elif input_operation == \"d\":\n",
        "     print(d)\n",
        "elif input_operation == \"m\":\n",
        "     print(m)\n",
        "else:\n",
        "    print(input_operation)"
      ]
    }
  ]
}